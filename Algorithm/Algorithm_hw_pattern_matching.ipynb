{
 "cells": [
  {
   "cell_type": "code",
   "execution_count": 14,
   "metadata": {},
   "outputs": [],
   "source": [
    "#S = 패턴을 찾아낼 문자열\n",
    "#P = 패턴 문자열\n",
    "#n = str1의 길이\n",
    "#m = pattern의 길이\n",
    "\n",
    "def match(S, P, n, m) :\n",
    "    l=0\n",
    "    matched = False\n",
    "    while(l<= n-m) and (matched == False) :    \n",
    "        r = 0\n",
    "        matched = True\n",
    "        while (r<m) and (matched == True) :\n",
    "            matched = matched and (P[r]==S[l+r])\n",
    "            r = r+1\n",
    "        l = l+1\n",
    "    \n",
    "    if(matched==False) :\n",
    "        return r\n",
    "    return l"
   ]
  },
  {
   "cell_type": "code",
   "execution_count": 2,
   "metadata": {},
   "outputs": [
    {
     "name": "stdout",
     "output_type": "stream",
     "text": [
      "문자열을 입력하세요 : abcdefghijk\n"
     ]
    }
   ],
   "source": [
    "S = input(\"문자열을 입력하세요 : \")"
   ]
  },
  {
   "cell_type": "code",
   "execution_count": 6,
   "metadata": {},
   "outputs": [
    {
     "name": "stdout",
     "output_type": "stream",
     "text": [
      "찾을 패턴을 입력하세요 : mop\n"
     ]
    }
   ],
   "source": [
    "P = input(\"찾을 패턴을 입력하세요 : \")"
   ]
  },
  {
   "cell_type": "code",
   "execution_count": 15,
   "metadata": {},
   "outputs": [],
   "source": [
    "n = len(S)\n",
    "m = len(P)\n",
    "result = match(S, P, n, m)"
   ]
  },
  {
   "cell_type": "code",
   "execution_count": 16,
   "metadata": {},
   "outputs": [
    {
     "name": "stdout",
     "output_type": "stream",
     "text": [
      "문자열의 1 부터 해당 패턴이 있습니다.\n"
     ]
    }
   ],
   "source": [
    "if(result==0) :\n",
    "    print(\"해당 패턴이 없습니다.\")\n",
    "elif (result<=n):\n",
    "    print(\"문자열의\", result, \"부터 해당 패턴이 있습니다.\")"
   ]
  },
  {
   "cell_type": "code",
   "execution_count": null,
   "metadata": {},
   "outputs": [],
   "source": []
  }
 ],
 "metadata": {
  "kernelspec": {
   "display_name": "Python 3",
   "language": "python",
   "name": "python3"
  },
  "language_info": {
   "codemirror_mode": {
    "name": "ipython",
    "version": 3
   },
   "file_extension": ".py",
   "mimetype": "text/x-python",
   "name": "python",
   "nbconvert_exporter": "python",
   "pygments_lexer": "ipython3",
   "version": "3.7.3"
  }
 },
 "nbformat": 4,
 "nbformat_minor": 2
}
