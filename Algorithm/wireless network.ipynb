{
 "cells": [
  {
   "cell_type": "code",
   "execution_count": 107,
   "metadata": {},
   "outputs": [],
   "source": [
    "import random\n",
    "import math\n",
    "#import numpy as np"
   ]
  },
  {
   "cell_type": "code",
   "execution_count": 108,
   "metadata": {},
   "outputs": [],
   "source": [
    "#두 정점 사이의 거리를 구하는 공식을 함수로 만듦\n",
    "\n",
    "def distance(x,y,z) : \n",
    "    return math.sqrt(x**2 + y**2 + z**2)"
   ]
  },
  {
   "cell_type": "code",
   "execution_count": 131,
   "metadata": {},
   "outputs": [
    {
     "name": "stdout",
     "output_type": "stream",
     "text": [
      "정점의 갯수를 입력하고 엔터를 누르시오 :> 10\n",
      "전파 도달거리를 입력하고 엔터를 누르시오 :> 4\n"
     ]
    }
   ],
   "source": [
    "n = int(input(\"정점의 갯수를 입력하고 엔터를 누르시오 :> \"))\n",
    "r = int(input(\"전파 도달거리를 입력하고 엔터를 누르시오 :> \"))"
   ]
  },
  {
   "cell_type": "code",
   "execution_count": 132,
   "metadata": {},
   "outputs": [],
   "source": [
    "#각 정점의 xyz 좌표가 저장될 리스트\n",
    "list_xyz = list()\n",
    "\n",
    "#직접 연결되는 정점들이 저장될 리스트\n",
    "dirCon = list()\n",
    "\n",
    "#Adjacency Matrix가 저장될 리스트\n",
    "#두 정점이 연결되어있는지 확인하는 것은 Adjacency List보다 Adjacency Matrix가 효율적.\n",
    "adMatrix = list()\n",
    "\n",
    "#최종 출력될 partition이 저장될 리스트\n",
    "partition = list()"
   ]
  },
  {
   "cell_type": "code",
   "execution_count": 133,
   "metadata": {},
   "outputs": [],
   "source": [
    "#각 정점마다 xyz 좌표를 랜덤값(range:1~10)을 생성해서 저장한 뒤 리스트(list_xyz)에 저장\n",
    "\n",
    "for i in range(n) :\n",
    "    tmp = list()\n",
    "    tmpX = random.randrange(1, 10)\n",
    "    tmp.append(tmpX)\n",
    "    tmpY = random.randrange(1, 10)\n",
    "    tmp.append(tmpY)\n",
    "    tmpZ = random.randrange(1, 10)\n",
    "    tmp.append(tmpZ)\n",
    "    list_xyz.append(tmp)"
   ]
  },
  {
   "cell_type": "code",
   "execution_count": 134,
   "metadata": {},
   "outputs": [
    {
     "data": {
      "text/plain": [
       "[[8, 9, 1],\n",
       " [2, 5, 1],\n",
       " [9, 2, 7],\n",
       " [7, 3, 8],\n",
       " [3, 2, 7],\n",
       " [6, 4, 1],\n",
       " [1, 3, 9],\n",
       " [6, 9, 5],\n",
       " [5, 2, 8],\n",
       " [7, 3, 2]]"
      ]
     },
     "execution_count": 134,
     "metadata": {},
     "output_type": "execute_result"
    }
   ],
   "source": [
    "list_xyz"
   ]
  },
  {
   "cell_type": "code",
   "execution_count": 135,
   "metadata": {
    "scrolled": true
   },
   "outputs": [],
   "source": [
    "#두 정점 사이의 거리가 r보다 작거나 같아서 직접 연결이 되는 경우를 찾아 리스트에 저장\n",
    "\n",
    "for i in range(n) :\n",
    "    tmp = list()\n",
    "    tmp.append(i)\n",
    "    for j in range(n) :\n",
    "        if i == j : \n",
    "            continue\n",
    "            \n",
    "        #위에서 선언해준 distance 함수로 두 정점 사이의 거리를 구함\n",
    "        if ((distance(list_xyz[i][0]-list_xyz[j][0], list_xyz[i][1] - list_xyz[j][1], list_xyz[i][2]-list_xyz[j][2])) <= r) :\n",
    "            tmp.append(j)\n",
    "    dirCon.append(tmp)"
   ]
  },
  {
   "cell_type": "code",
   "execution_count": 136,
   "metadata": {},
   "outputs": [
    {
     "data": {
      "text/plain": [
       "[[0],\n",
       " [1],\n",
       " [2, 3],\n",
       " [3, 2, 8],\n",
       " [4, 6, 8],\n",
       " [5, 9],\n",
       " [6, 4],\n",
       " [7],\n",
       " [8, 3, 4],\n",
       " [9, 5]]"
      ]
     },
     "execution_count": 136,
     "metadata": {},
     "output_type": "execute_result"
    }
   ],
   "source": [
    "dirCon"
   ]
  },
  {
   "cell_type": "code",
   "execution_count": 137,
   "metadata": {},
   "outputs": [],
   "source": [
    "#연결되어있는 정점들을 Adjacency Matrix에 저장\n",
    "\n",
    "#Matrix를 0으로 초기화\n",
    "for i in range(n) :\n",
    "    tmp = list()\n",
    "    for j in range(n) :\n",
    "        tmp.append(0)\n",
    "    adMatrix.append(tmp)\n",
    "\n",
    "#연결된 정점은 1로 표시\n",
    "for i in range(n) :\n",
    "    for j in range(1, len(dirCon[i])) :\n",
    "        adMatrix[i][dirCon[i][j]] = 1"
   ]
  },
  {
   "cell_type": "code",
   "execution_count": 138,
   "metadata": {},
   "outputs": [
    {
     "data": {
      "text/plain": [
       "[[0, 0, 0, 0, 0, 0, 0, 0, 0, 0],\n",
       " [0, 0, 0, 0, 0, 0, 0, 0, 0, 0],\n",
       " [0, 0, 0, 1, 0, 0, 0, 0, 0, 0],\n",
       " [0, 0, 1, 0, 0, 0, 0, 0, 1, 0],\n",
       " [0, 0, 0, 0, 0, 0, 1, 0, 1, 0],\n",
       " [0, 0, 0, 0, 0, 0, 0, 0, 0, 1],\n",
       " [0, 0, 0, 0, 1, 0, 0, 0, 0, 0],\n",
       " [0, 0, 0, 0, 0, 0, 0, 0, 0, 0],\n",
       " [0, 0, 0, 1, 1, 0, 0, 0, 0, 0],\n",
       " [0, 0, 0, 0, 0, 1, 0, 0, 0, 0]]"
      ]
     },
     "execution_count": 138,
     "metadata": {},
     "output_type": "execute_result"
    }
   ],
   "source": [
    "#멀티홉 적용 전\n",
    "adMatrix"
   ]
  },
  {
   "cell_type": "code",
   "execution_count": 139,
   "metadata": {},
   "outputs": [],
   "source": [
    "#멀티홉을 적용 시키는 과정\n",
    "\n",
    "for i in range(2) :\n",
    "    for j in range(n) :\n",
    "        for k in range(n) :\n",
    "            if j==k :\n",
    "                continue\n",
    "            if adMatrix[j][k] == 1 :\n",
    "                for l in range(n) :\n",
    "                    if(adMatrix[k][l] == 1) :\n",
    "                        adMatrix[j][l] = 1"
   ]
  },
  {
   "cell_type": "code",
   "execution_count": 140,
   "metadata": {},
   "outputs": [
    {
     "data": {
      "text/plain": [
       "[[0, 0, 0, 0, 0, 0, 0, 0, 0, 0],\n",
       " [0, 0, 0, 0, 0, 0, 0, 0, 0, 0],\n",
       " [0, 0, 1, 1, 1, 0, 1, 0, 1, 0],\n",
       " [0, 0, 1, 1, 1, 0, 1, 0, 1, 0],\n",
       " [0, 0, 1, 1, 1, 0, 1, 0, 1, 0],\n",
       " [0, 0, 0, 0, 0, 1, 0, 0, 0, 1],\n",
       " [0, 0, 1, 1, 1, 0, 1, 0, 1, 0],\n",
       " [0, 0, 0, 0, 0, 0, 0, 0, 0, 0],\n",
       " [0, 0, 1, 1, 1, 0, 1, 0, 1, 0],\n",
       " [0, 0, 0, 0, 0, 1, 0, 0, 0, 1]]"
      ]
     },
     "execution_count": 140,
     "metadata": {},
     "output_type": "execute_result"
    }
   ],
   "source": [
    "adMatrix"
   ]
  },
  {
   "cell_type": "code",
   "execution_count": 141,
   "metadata": {},
   "outputs": [
    {
     "name": "stdout",
     "output_type": "stream",
     "text": [
      "[(9, 5), (2, 3, 4, 6, 8), (0, 1, 7)]\n"
     ]
    }
   ],
   "source": [
    "#partiotion 구하는 과정\n",
    "\n",
    "for i in range(n) :\n",
    "    tmp = list()\n",
    "    tmp.append(i)\n",
    "    for j in range(n) :\n",
    "        if i == j :\n",
    "            continue\n",
    "        if (adMatrix[i]==adMatrix[j]) :\n",
    "            tmp.append(j)\n",
    "    partition.append(sorted(tmp))\n",
    "    \n",
    "partition = list(set([tuple(set(part)) for part in partition]))\n",
    "print(partition)"
   ]
  },
  {
   "cell_type": "code",
   "execution_count": null,
   "metadata": {},
   "outputs": [],
   "source": [
    "#위에 리스트 내포 쓴 이유\n",
    "#파이썬에서 list(중복 있음)를 set(중복 없음)으로 바꾸기 위해서 리스트를 tuple로 바꿔줘야 하는 과정이 필요하기 때문."
   ]
  }
 ],
 "metadata": {
  "kernelspec": {
   "display_name": "Python 3",
   "language": "python",
   "name": "python3"
  },
  "language_info": {
   "codemirror_mode": {
    "name": "ipython",
    "version": 3
   },
   "file_extension": ".py",
   "mimetype": "text/x-python",
   "name": "python",
   "nbconvert_exporter": "python",
   "pygments_lexer": "ipython3",
   "version": "3.7.3"
  }
 },
 "nbformat": 4,
 "nbformat_minor": 2
}
